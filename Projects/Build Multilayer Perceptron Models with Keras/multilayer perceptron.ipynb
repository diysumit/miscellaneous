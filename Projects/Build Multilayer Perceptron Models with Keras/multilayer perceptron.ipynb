{
 "cells": [
  {
   "cell_type": "markdown",
   "metadata": {
    "colab_type": "text",
    "id": "Q_TXpazmI4hi"
   },
   "source": [
    "<img align=center src=\"https://rhyme.com/assets/img/logo-dark.png\"></img>\n",
    "<h2 align=center> Multilayer Perceptron Models with Keras</h2>"
   ]
  },
  {
   "cell_type": "markdown",
   "metadata": {
    "colab_type": "text",
    "id": "FkDMtyFAI6eZ"
   },
   "source": [
    "## Task 1: Project Overview and Import Modules"
   ]
  },
  {
   "cell_type": "code",
   "execution_count": 1,
   "metadata": {
    "colab": {
     "base_uri": "https://localhost:8080/",
     "height": 52
    },
    "colab_type": "code",
    "id": "u-Q0ZQ81AJAD",
    "outputId": "0ac11ca4-84c6-46fa-d760-2ef8878009fe"
   },
   "outputs": [
    {
     "name": "stdout",
     "output_type": "stream",
     "text": [
      "Tensorflow version: 2.8.2\n"
     ]
    }
   ],
   "source": [
    "%matplotlib inline\n",
    "import matplotlib.pyplot as plt\n",
    "import numpy as np\n",
    "np.random.seed(0)\n",
    "import tensorflow as tf\n",
    "from tensorflow.keras.datasets import reuters\n",
    "from tensorflow.keras.models import Sequential\n",
    "from tensorflow.keras.layers import Dense, Dropout, Activation\n",
    "from tensorflow.keras.preprocessing.text import Tokenizer\n",
    "\n",
    "print('Tensorflow version:', tf.__version__)"
   ]
  },
  {
   "cell_type": "markdown",
   "metadata": {
    "colab_type": "text",
    "id": "O_87ArymJ_HP"
   },
   "source": [
    "## Task 2: Load the Reuters Dataset"
   ]
  },
  {
   "cell_type": "code",
   "execution_count": 2,
   "metadata": {
    "colab": {
     "base_uri": "https://localhost:8080/",
     "height": 52
    },
    "colab_type": "code",
    "id": "mvnfT5lcAJx1",
    "outputId": "57f550e0-0e81-46a3-87e7-63aa1736fb7d"
   },
   "outputs": [],
   "source": [
    "(x_train, y_train), (x_test, y_test) = reuters.load_data(num_words=30000, test_split=0.2)"
   ]
  },
  {
   "cell_type": "code",
   "execution_count": 3,
   "metadata": {
    "colab": {
     "base_uri": "https://localhost:8080/",
     "height": 52
    },
    "colab_type": "code",
    "id": "qiyU9CRPAJ1x",
    "outputId": "9b31a4f1-30ed-4fab-9966-11942690d3fb"
   },
   "outputs": [
    {
     "name": "stdout",
     "output_type": "stream",
     "text": [
      "Train-Test Split Ratio: 3.9991095280498663\n"
     ]
    }
   ],
   "source": [
    "print(f\"Train-Test Split Ratio: {len(x_train)/len(x_test)}\")"
   ]
  },
  {
   "cell_type": "code",
   "execution_count": 4,
   "metadata": {
    "colab": {
     "base_uri": "https://localhost:8080/",
     "height": 34
    },
    "colab_type": "code",
    "id": "ga2yF0GDAJ4x",
    "outputId": "084a84e0-7e97-485c-99e6-2494e77897ea"
   },
   "outputs": [
    {
     "name": "stdout",
     "output_type": "stream",
     "text": [
      "Number of classes = 46\n"
     ]
    }
   ],
   "source": [
    "num_classes = np.max(y_train) + 1\n",
    "print(f\"Number of classes = {num_classes}\")"
   ]
  },
  {
   "cell_type": "markdown",
   "metadata": {
    "colab_type": "text",
    "id": "gxOfk01xO8M4"
   },
   "source": [
    "## Task 3: Vectorize Sequence Data and One-hot Encode Class Labels"
   ]
  },
  {
   "cell_type": "code",
   "execution_count": 5,
   "metadata": {
    "colab": {
     "base_uri": "https://localhost:8080/",
     "height": 69
    },
    "colab_type": "code",
    "id": "SwY0M11JAJ6z",
    "outputId": "898f7426-6c53-4903-8801-7ad8bb9b1c67"
   },
   "outputs": [
    {
     "data": {
      "text/plain": [
       "((8982, 30000), (2246, 30000))"
      ]
     },
     "execution_count": 5,
     "metadata": {},
     "output_type": "execute_result"
    }
   ],
   "source": [
    "tokenizer = Tokenizer(num_words=30000)\n",
    "x_train = tokenizer.sequences_to_matrix(x_train, mode=\"binary\")\n",
    "x_test = tokenizer.sequences_to_matrix(x_test, mode=\"binary\")\n",
    "x_train.shape, x_test.shape"
   ]
  },
  {
   "cell_type": "code",
   "execution_count": 6,
   "metadata": {
    "colab": {
     "base_uri": "https://localhost:8080/",
     "height": 69
    },
    "colab_type": "code",
    "id": "CqSLs8-MAJ-W",
    "outputId": "afbfdf1a-50c7-463e-8815-ce970dc009a7"
   },
   "outputs": [
    {
     "data": {
      "text/plain": [
       "((8982, 46), (2246, 46))"
      ]
     },
     "execution_count": 6,
     "metadata": {},
     "output_type": "execute_result"
    }
   ],
   "source": [
    "y_train = tf.keras.utils.to_categorical(y_train, num_classes)\n",
    "y_test = tf.keras.utils.to_categorical(y_test, num_classes)  \n",
    "y_train.shape, y_test.shape"
   ]
  },
  {
   "cell_type": "markdown",
   "metadata": {
    "colab_type": "text",
    "id": "1qbdtF5MQBZW"
   },
   "source": [
    "## Task 4: Build Multilayer Perceptron Model"
   ]
  },
  {
   "cell_type": "code",
   "execution_count": 25,
   "metadata": {
    "colab": {},
    "colab_type": "code",
    "id": "kzaPJpw99KKt"
   },
   "outputs": [
    {
     "name": "stdout",
     "output_type": "stream",
     "text": [
      "Model: \"sequential_1\"\n",
      "_________________________________________________________________\n",
      " Layer (type)                Output Shape              Param #   \n",
      "=================================================================\n",
      " dense_2 (Dense)             (None, 512)               15360512  \n",
      "                                                                 \n",
      " activation_2 (Activation)   (None, 512)               0         \n",
      "                                                                 \n",
      " dropout_1 (Dropout)         (None, 512)               0         \n",
      "                                                                 \n",
      " dense_3 (Dense)             (None, 1024)              525312    \n",
      "                                                                 \n",
      " activation_3 (Activation)   (None, 1024)              0         \n",
      "                                                                 \n",
      " dropout_2 (Dropout)         (None, 1024)              0         \n",
      "                                                                 \n",
      " dense_4 (Dense)             (None, 46)                47150     \n",
      "                                                                 \n",
      " activation_4 (Activation)   (None, 46)                0         \n",
      "                                                                 \n",
      "=================================================================\n",
      "Total params: 15,932,974\n",
      "Trainable params: 15,932,974\n",
      "Non-trainable params: 0\n",
      "_________________________________________________________________\n"
     ]
    }
   ],
   "source": [
    "model = Sequential([\n",
    "      Dense(512, input_shape=(30000, )),\n",
    "      Activation('relu'),\n",
    "      Dropout(0.4),\n",
    "      Dense(1024),\n",
    "      Activation('relu'),\n",
    "      Dropout(0.2),\n",
    "      Dense(num_classes),\n",
    "      Activation('softmax'),\n",
    "])\n",
    "model.summary()"
   ]
  },
  {
   "cell_type": "markdown",
   "metadata": {
    "colab_type": "text",
    "id": "5-mKD7L2QKsJ"
   },
   "source": [
    "## Task 5: Train Model"
   ]
  },
  {
   "cell_type": "code",
   "execution_count": 26,
   "metadata": {
    "colab": {
     "base_uri": "https://localhost:8080/",
     "height": 52
    },
    "colab_type": "code",
    "id": "Bjf3XLC--B6Q",
    "outputId": "5f6714ae-6b6a-4464-b9fd-38f6ab7f77c4"
   },
   "outputs": [],
   "source": [
    "from tensorflow.keras.callbacks import EarlyStopping\n",
    "\n",
    "es = EarlyStopping(monitor=\"val_loss\", patience=10, verbose=1, mode=\"min\")\n",
    "model.compile(optimizer=tf.keras.optimizers.SGD(learning_rate=0.01), loss=tf.keras.losses.CategoricalCrossentropy(), metrics=['accuracy'])"
   ]
  },
  {
   "cell_type": "code",
   "execution_count": 27,
   "metadata": {
    "colab": {
     "base_uri": "https://localhost:8080/",
     "height": 208
    },
    "colab_type": "code",
    "id": "Y75bm-j7CKHJ",
    "outputId": "d32d3604-e5cb-4844-ee52-6551c251db5e"
   },
   "outputs": [
    {
     "name": "stdout",
     "output_type": "stream",
     "text": [
      "Epoch 1/100\n",
      "127/127 [==============================] - 8s 54ms/step - loss: 3.1842 - accuracy: 0.3376 - val_loss: 2.4680 - val_accuracy: 0.3504\n",
      "Epoch 2/100\n",
      "127/127 [==============================] - 4s 35ms/step - loss: 2.1713 - accuracy: 0.4722 - val_loss: 2.0103 - val_accuracy: 0.5050\n",
      "Epoch 3/100\n",
      "127/127 [==============================] - 4s 35ms/step - loss: 1.8934 - accuracy: 0.5178 - val_loss: 1.8377 - val_accuracy: 0.5261\n",
      "Epoch 4/100\n",
      "127/127 [==============================] - 4s 35ms/step - loss: 1.7652 - accuracy: 0.5554 - val_loss: 1.7339 - val_accuracy: 0.5740\n",
      "Epoch 5/100\n",
      "127/127 [==============================] - 5s 36ms/step - loss: 1.6730 - accuracy: 0.5964 - val_loss: 1.6639 - val_accuracy: 0.6307\n",
      "Epoch 6/100\n",
      "127/127 [==============================] - 4s 35ms/step - loss: 1.6007 - accuracy: 0.6256 - val_loss: 1.6090 - val_accuracy: 0.6463\n",
      "Epoch 7/100\n",
      "127/127 [==============================] - 5s 35ms/step - loss: 1.5385 - accuracy: 0.6478 - val_loss: 1.5635 - val_accuracy: 0.6685\n",
      "Epoch 8/100\n",
      "127/127 [==============================] - 4s 35ms/step - loss: 1.4830 - accuracy: 0.6691 - val_loss: 1.5213 - val_accuracy: 0.6808\n",
      "Epoch 9/100\n",
      "127/127 [==============================] - 5s 35ms/step - loss: 1.4312 - accuracy: 0.6797 - val_loss: 1.4757 - val_accuracy: 0.6952\n",
      "Epoch 10/100\n",
      "127/127 [==============================] - 5s 36ms/step - loss: 1.3791 - accuracy: 0.6926 - val_loss: 1.4369 - val_accuracy: 0.7008\n",
      "Epoch 11/100\n",
      "127/127 [==============================] - 5s 35ms/step - loss: 1.3365 - accuracy: 0.6990 - val_loss: 1.4033 - val_accuracy: 0.7008\n",
      "Epoch 12/100\n",
      "127/127 [==============================] - 5s 36ms/step - loss: 1.2894 - accuracy: 0.7080 - val_loss: 1.3720 - val_accuracy: 0.7030\n",
      "Epoch 13/100\n",
      "127/127 [==============================] - 5s 36ms/step - loss: 1.2505 - accuracy: 0.7148 - val_loss: 1.3473 - val_accuracy: 0.7052\n",
      "Epoch 14/100\n",
      "127/127 [==============================] - 5s 36ms/step - loss: 1.2150 - accuracy: 0.7205 - val_loss: 1.3204 - val_accuracy: 0.7119\n",
      "Epoch 15/100\n",
      "127/127 [==============================] - 5s 36ms/step - loss: 1.1778 - accuracy: 0.7267 - val_loss: 1.3001 - val_accuracy: 0.7208\n",
      "Epoch 16/100\n",
      "127/127 [==============================] - 5s 36ms/step - loss: 1.1503 - accuracy: 0.7383 - val_loss: 1.2769 - val_accuracy: 0.7241\n",
      "Epoch 17/100\n",
      "127/127 [==============================] - 4s 35ms/step - loss: 1.1198 - accuracy: 0.7453 - val_loss: 1.2592 - val_accuracy: 0.7264\n",
      "Epoch 18/100\n",
      "127/127 [==============================] - 5s 36ms/step - loss: 1.0892 - accuracy: 0.7533 - val_loss: 1.2460 - val_accuracy: 0.7330\n",
      "Epoch 19/100\n",
      "127/127 [==============================] - 4s 35ms/step - loss: 1.0612 - accuracy: 0.7599 - val_loss: 1.2298 - val_accuracy: 0.7408\n",
      "Epoch 20/100\n",
      "127/127 [==============================] - 4s 35ms/step - loss: 1.0418 - accuracy: 0.7658 - val_loss: 1.2190 - val_accuracy: 0.7386\n",
      "Epoch 21/100\n",
      "127/127 [==============================] - 4s 35ms/step - loss: 1.0112 - accuracy: 0.7664 - val_loss: 1.2011 - val_accuracy: 0.7442\n",
      "Epoch 22/100\n",
      "127/127 [==============================] - 5s 35ms/step - loss: 0.9881 - accuracy: 0.7800 - val_loss: 1.1923 - val_accuracy: 0.7419\n",
      "Epoch 23/100\n",
      "127/127 [==============================] - 4s 35ms/step - loss: 0.9615 - accuracy: 0.7823 - val_loss: 1.1799 - val_accuracy: 0.7453\n",
      "Epoch 24/100\n",
      "127/127 [==============================] - 4s 35ms/step - loss: 0.9386 - accuracy: 0.7894 - val_loss: 1.1709 - val_accuracy: 0.7475\n",
      "Epoch 25/100\n",
      "127/127 [==============================] - 4s 35ms/step - loss: 0.9164 - accuracy: 0.7938 - val_loss: 1.1579 - val_accuracy: 0.7497\n",
      "Epoch 26/100\n",
      "127/127 [==============================] - 4s 35ms/step - loss: 0.8990 - accuracy: 0.7980 - val_loss: 1.1463 - val_accuracy: 0.7553\n",
      "Epoch 27/100\n",
      "127/127 [==============================] - 4s 35ms/step - loss: 0.8763 - accuracy: 0.8050 - val_loss: 1.1430 - val_accuracy: 0.7542\n",
      "Epoch 28/100\n",
      "127/127 [==============================] - 4s 35ms/step - loss: 0.8540 - accuracy: 0.8070 - val_loss: 1.1330 - val_accuracy: 0.7542\n",
      "Epoch 29/100\n",
      "127/127 [==============================] - 4s 35ms/step - loss: 0.8345 - accuracy: 0.8107 - val_loss: 1.1236 - val_accuracy: 0.7553\n",
      "Epoch 30/100\n",
      "127/127 [==============================] - 4s 35ms/step - loss: 0.8181 - accuracy: 0.8133 - val_loss: 1.1159 - val_accuracy: 0.7542\n",
      "Epoch 31/100\n",
      "127/127 [==============================] - 4s 35ms/step - loss: 0.7962 - accuracy: 0.8190 - val_loss: 1.1054 - val_accuracy: 0.7608\n",
      "Epoch 32/100\n",
      "127/127 [==============================] - 5s 36ms/step - loss: 0.7741 - accuracy: 0.8231 - val_loss: 1.0981 - val_accuracy: 0.7564\n",
      "Epoch 33/100\n",
      "127/127 [==============================] - 4s 35ms/step - loss: 0.7566 - accuracy: 0.8272 - val_loss: 1.0950 - val_accuracy: 0.7608\n",
      "Epoch 34/100\n",
      "127/127 [==============================] - 4s 35ms/step - loss: 0.7420 - accuracy: 0.8264 - val_loss: 1.0891 - val_accuracy: 0.7586\n",
      "Epoch 35/100\n",
      "127/127 [==============================] - 4s 35ms/step - loss: 0.7214 - accuracy: 0.8352 - val_loss: 1.0836 - val_accuracy: 0.7597\n",
      "Epoch 36/100\n",
      "127/127 [==============================] - 5s 35ms/step - loss: 0.7068 - accuracy: 0.8362 - val_loss: 1.0793 - val_accuracy: 0.7608\n",
      "Epoch 37/100\n",
      "127/127 [==============================] - 4s 35ms/step - loss: 0.6972 - accuracy: 0.8378 - val_loss: 1.0701 - val_accuracy: 0.7586\n",
      "Epoch 38/100\n",
      "127/127 [==============================] - 5s 36ms/step - loss: 0.6789 - accuracy: 0.8418 - val_loss: 1.0624 - val_accuracy: 0.7653\n",
      "Epoch 39/100\n",
      "127/127 [==============================] - 4s 35ms/step - loss: 0.6618 - accuracy: 0.8465 - val_loss: 1.0623 - val_accuracy: 0.7675\n",
      "Epoch 40/100\n",
      "127/127 [==============================] - 4s 35ms/step - loss: 0.6455 - accuracy: 0.8489 - val_loss: 1.0588 - val_accuracy: 0.7642\n",
      "Epoch 41/100\n",
      "127/127 [==============================] - 4s 35ms/step - loss: 0.6302 - accuracy: 0.8502 - val_loss: 1.0584 - val_accuracy: 0.7597\n",
      "Epoch 42/100\n",
      "127/127 [==============================] - 5s 35ms/step - loss: 0.6113 - accuracy: 0.8567 - val_loss: 1.0479 - val_accuracy: 0.7742\n",
      "Epoch 43/100\n",
      "127/127 [==============================] - 5s 36ms/step - loss: 0.6022 - accuracy: 0.8596 - val_loss: 1.0438 - val_accuracy: 0.7720\n",
      "Epoch 44/100\n",
      "127/127 [==============================] - 5s 36ms/step - loss: 0.5878 - accuracy: 0.8617 - val_loss: 1.0452 - val_accuracy: 0.7764\n",
      "Epoch 45/100\n",
      "127/127 [==============================] - 5s 36ms/step - loss: 0.5739 - accuracy: 0.8664 - val_loss: 1.0416 - val_accuracy: 0.7775\n",
      "Epoch 46/100\n",
      "127/127 [==============================] - 5s 36ms/step - loss: 0.5647 - accuracy: 0.8675 - val_loss: 1.0344 - val_accuracy: 0.7786\n",
      "Epoch 47/100\n",
      "127/127 [==============================] - 4s 35ms/step - loss: 0.5545 - accuracy: 0.8708 - val_loss: 1.0391 - val_accuracy: 0.7731\n",
      "Epoch 48/100\n",
      "127/127 [==============================] - 4s 35ms/step - loss: 0.5429 - accuracy: 0.8697 - val_loss: 1.0300 - val_accuracy: 0.7820\n",
      "Epoch 49/100\n",
      "127/127 [==============================] - 5s 35ms/step - loss: 0.5341 - accuracy: 0.8753 - val_loss: 1.0282 - val_accuracy: 0.7875\n",
      "Epoch 50/100\n",
      "127/127 [==============================] - 5s 36ms/step - loss: 0.5175 - accuracy: 0.8774 - val_loss: 1.0308 - val_accuracy: 0.7864\n",
      "Epoch 51/100\n",
      "127/127 [==============================] - 5s 36ms/step - loss: 0.5054 - accuracy: 0.8807 - val_loss: 1.0218 - val_accuracy: 0.7931\n",
      "Epoch 52/100\n",
      "127/127 [==============================] - 5s 35ms/step - loss: 0.4943 - accuracy: 0.8832 - val_loss: 1.0188 - val_accuracy: 0.7942\n",
      "Epoch 53/100\n",
      "127/127 [==============================] - 4s 35ms/step - loss: 0.4822 - accuracy: 0.8873 - val_loss: 1.0258 - val_accuracy: 0.7942\n",
      "Epoch 54/100\n",
      "127/127 [==============================] - 5s 35ms/step - loss: 0.4739 - accuracy: 0.8894 - val_loss: 1.0264 - val_accuracy: 0.7909\n",
      "Epoch 55/100\n",
      "127/127 [==============================] - 4s 35ms/step - loss: 0.4542 - accuracy: 0.8983 - val_loss: 1.0170 - val_accuracy: 0.7931\n",
      "Epoch 56/100\n",
      "127/127 [==============================] - 4s 35ms/step - loss: 0.4495 - accuracy: 0.8983 - val_loss: 1.0168 - val_accuracy: 0.7964\n",
      "Epoch 57/100\n",
      "127/127 [==============================] - 4s 35ms/step - loss: 0.4446 - accuracy: 0.8988 - val_loss: 1.0156 - val_accuracy: 0.7942\n",
      "Epoch 58/100\n",
      "127/127 [==============================] - 4s 35ms/step - loss: 0.4350 - accuracy: 0.9007 - val_loss: 1.0138 - val_accuracy: 0.7920\n",
      "Epoch 59/100\n",
      "127/127 [==============================] - 4s 35ms/step - loss: 0.4281 - accuracy: 0.9016 - val_loss: 1.0226 - val_accuracy: 0.7875\n",
      "Epoch 60/100\n",
      "127/127 [==============================] - 4s 35ms/step - loss: 0.4162 - accuracy: 0.9065 - val_loss: 1.0149 - val_accuracy: 0.7998\n",
      "Epoch 61/100\n",
      "127/127 [==============================] - 4s 35ms/step - loss: 0.4072 - accuracy: 0.9087 - val_loss: 1.0142 - val_accuracy: 0.7964\n",
      "Epoch 62/100\n",
      "127/127 [==============================] - 4s 35ms/step - loss: 0.3995 - accuracy: 0.9082 - val_loss: 1.0132 - val_accuracy: 0.7964\n",
      "Epoch 63/100\n",
      "127/127 [==============================] - 4s 35ms/step - loss: 0.3943 - accuracy: 0.9076 - val_loss: 1.0121 - val_accuracy: 0.8031\n",
      "Epoch 64/100\n",
      "127/127 [==============================] - 4s 35ms/step - loss: 0.3802 - accuracy: 0.9148 - val_loss: 1.0095 - val_accuracy: 0.7931\n",
      "Epoch 65/100\n",
      "127/127 [==============================] - 4s 35ms/step - loss: 0.3820 - accuracy: 0.9123 - val_loss: 1.0059 - val_accuracy: 0.7976\n",
      "Epoch 66/100\n",
      "127/127 [==============================] - 5s 36ms/step - loss: 0.3674 - accuracy: 0.9145 - val_loss: 1.0068 - val_accuracy: 0.7998\n",
      "Epoch 67/100\n",
      "127/127 [==============================] - 5s 36ms/step - loss: 0.3594 - accuracy: 0.9175 - val_loss: 1.0059 - val_accuracy: 0.7987\n",
      "Epoch 68/100\n",
      "127/127 [==============================] - 4s 35ms/step - loss: 0.3524 - accuracy: 0.9165 - val_loss: 1.0114 - val_accuracy: 0.8031\n",
      "Epoch 69/100\n",
      "127/127 [==============================] - 4s 35ms/step - loss: 0.3460 - accuracy: 0.9234 - val_loss: 1.0074 - val_accuracy: 0.8042\n",
      "Epoch 70/100\n",
      "127/127 [==============================] - 4s 35ms/step - loss: 0.3394 - accuracy: 0.9203 - val_loss: 1.0107 - val_accuracy: 0.8020\n",
      "Epoch 71/100\n",
      "127/127 [==============================] - 4s 35ms/step - loss: 0.3346 - accuracy: 0.9224 - val_loss: 1.0139 - val_accuracy: 0.8031\n",
      "Epoch 72/100\n",
      "127/127 [==============================] - 4s 35ms/step - loss: 0.3269 - accuracy: 0.9247 - val_loss: 1.0135 - val_accuracy: 0.8053\n",
      "Epoch 73/100\n",
      "127/127 [==============================] - 4s 35ms/step - loss: 0.3261 - accuracy: 0.9240 - val_loss: 1.0104 - val_accuracy: 0.8042\n",
      "Epoch 74/100\n",
      "127/127 [==============================] - 4s 35ms/step - loss: 0.3113 - accuracy: 0.9274 - val_loss: 1.0235 - val_accuracy: 0.8020\n",
      "Epoch 75/100\n",
      "127/127 [==============================] - 4s 35ms/step - loss: 0.3064 - accuracy: 0.9306 - val_loss: 1.0170 - val_accuracy: 0.8053\n",
      "Epoch 76/100\n",
      "127/127 [==============================] - 4s 35ms/step - loss: 0.3078 - accuracy: 0.9277 - val_loss: 1.0250 - val_accuracy: 0.8031\n",
      "Epoch 77/100\n",
      "127/127 [==============================] - 5s 35ms/step - loss: 0.3018 - accuracy: 0.9306 - val_loss: 1.0235 - val_accuracy: 0.8031\n",
      "Epoch 77: early stopping\n"
     ]
    }
   ],
   "source": [
    "history = model.fit(x_train, y_train, epochs=100, batch_size=64, validation_split=0.1, callbacks=[es])"
   ]
  },
  {
   "cell_type": "markdown",
   "metadata": {
    "colab_type": "text",
    "id": "XNRw1etxQQqe"
   },
   "source": [
    "## Task 6: Evaluate Model on Test Data"
   ]
  },
  {
   "cell_type": "code",
   "execution_count": 28,
   "metadata": {
    "colab": {
     "base_uri": "https://localhost:8080/",
     "height": 69
    },
    "colab_type": "code",
    "id": "FdMOQHKiAKLI",
    "outputId": "4a313c45-4035-4918-92d5-25f71f21b83d"
   },
   "outputs": [
    {
     "name": "stdout",
     "output_type": "stream",
     "text": [
      "36/36 [==============================] - 1s 19ms/step - loss: 0.9627 - accuracy: 0.7885\n"
     ]
    },
    {
     "data": {
      "text/plain": [
       "[0.9626710414886475, 0.7885128855705261]"
      ]
     },
     "execution_count": 28,
     "metadata": {},
     "output_type": "execute_result"
    }
   ],
   "source": [
    "model.evaluate(x_test, y_test, batch_size=64, verbose=1)"
   ]
  },
  {
   "cell_type": "code",
   "execution_count": 29,
   "metadata": {
    "colab": {
     "base_uri": "https://localhost:8080/",
     "height": 295
    },
    "colab_type": "code",
    "id": "Qg3uXnvOAKNe",
    "outputId": "82bafe70-2338-4701-afe5-ef7852760e57"
   },
   "outputs": [
    {
     "data": {
      "image/png": "[encoded data removed]",
      "text/plain": [
       "<Figure size 432x288 with 1 Axes>"
      ]
     },
     "metadata": {
      "needs_background": "dark"
     },
     "output_type": "display_data"
    }
   ],
   "source": [
    "plt.plot(history.history['loss'], label='Training Loss')\n",
    "plt.plot(history.history['val_loss'], label='Validation Loss')\n",
    "plt.title('Training and Validation Loss')\n",
    "plt.xlabel('Epochs')\n",
    "plt.ylabel('Loss')\n",
    "plt.legend()\n",
    "plt.show()"
   ]
  },
  {
   "cell_type": "code",
   "execution_count": 30,
   "metadata": {
    "colab": {
     "base_uri": "https://localhost:8080/",
     "height": 295
    },
    "colab_type": "code",
    "id": "eyM2tPyeAKRV",
    "outputId": "402ebf50-9d0a-433a-e5cb-c3b8c64ea9c1"
   },
   "outputs": [
    {
     "data": {
      "image/png": "[encoded data removed]",
      "text/plain": [
       "<Figure size 432x288 with 1 Axes>"
      ]
     },
     "metadata": {
      "needs_background": "dark"
     },
     "output_type": "display_data"
    }
   ],
   "source": [
    "plt.plot(history.history['accuracy'], label='Training Accuracy')\n",
    "plt.plot(history.history['val_accuracy'], label='Validation Accuracy')\n",
    "plt.title('Training and Validation Accuracy')\n",
    "plt.xlabel('Epochs')\n",
    "plt.ylabel('Accuracy')\n",
    "plt.legend()\n",
    "plt.show()"
   ]
  },
  {
   "cell_type": "code",
   "execution_count": null,
   "metadata": {
    "colab": {},
    "colab_type": "code",
    "id": "tGYwFMwmAK-L"
   },
   "outputs": [],
   "source": []
  },
  {
   "cell_type": "code",
   "execution_count": null,
   "metadata": {
    "colab": {},
    "colab_type": "code",
    "id": "lJQ4GSZKAKhX"
   },
   "outputs": [],
   "source": []
  }
 ],
 "metadata": {
  "colab": {
   "collapsed_sections": [],
   "name": "Topic_Classification.ipynb",
   "provenance": []
  },
  "kernelspec": {
   "display_name": "Python 3.9.12 ('base')",
   "language": "python",
   "name": "python3"
  },
  "language_info": {
   "codemirror_mode": {
    "name": "ipython",
    "version": 3
   },
   "file_extension": ".py",
   "mimetype": "text/x-python",
   "name": "python",
   "nbconvert_exporter": "python",
   "pygments_lexer": "ipython3",
   "version": "3.9.12"
  },
  "vscode": {
   "interpreter": {
    "hash": "ad2bdc8ecc057115af97d19610ffacc2b4e99fae6737bb82f5d7fb13d2f2c186"
   }
  }
 },
 "nbformat": 4,
 "nbformat_minor": 1
}
